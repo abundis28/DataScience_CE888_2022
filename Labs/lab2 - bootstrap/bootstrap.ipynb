{
  "cells": [
    {
      "cell_type": "markdown",
      "metadata": {
        "colab_type": "text",
        "id": "view-in-github"
      },
      "source": [
        "<a href=\"https://colab.research.google.com/github/albanda/CE888/blob/master/lab2%20-%20bootstrap/bootstrap.ipynb\" target=\"_parent\"><img src=\"https://colab.research.google.com/assets/colab-badge.svg\" alt=\"Open In Colab\"/></a>"
      ]
    },
    {
      "cell_type": "markdown",
      "metadata": {
        "id": "nCi_99yMYIb1"
      },
      "source": [
        "In this notebook you'll create your own bootstrap function following the bootstrap algorithm (check the lecture notes!)"
      ]
    },
    {
      "cell_type": "code",
      "execution_count": 1,
      "metadata": {
        "id": "LY5zujI2YC37",
        "pycharm": {
          "name": "#%%# Imports\n"
        }
      },
      "outputs": [],
      "source": [
        "import matplotlib\n",
        "import pandas as pd\n",
        "import seaborn as sns\n",
        "import numpy as np\n",
        "\n"
      ]
    },
    {
      "cell_type": "code",
      "execution_count": 2,
      "metadata": {
        "id": "Eqkwj4SMY38t"
      },
      "outputs": [],
      "source": [
        "# Load the data\n",
        "df = pd.read_csv('https://raw.githubusercontent.com/albanda/CE888/master/lab2%20-%20bootstrap/customers.csv')\n",
        "data = df.values.T[1]"
      ]
    },
    {
      "cell_type": "code",
      "execution_count": 3,
      "metadata": {
        "id": "Gxvc_bScYC4H",
        "pycharm": {
          "name": "#%%\n"
        }
      },
      "outputs": [],
      "source": [
        "# Checking the notes from the lecture, create here your own bootstrap function:\n",
        "# 1. Sample from the input array x to create an array of samples of shape (n_bootstraps, sample_size)\n",
        "# Hint: Check the function random.choice() on Numpy\n",
        "# 2. Calculate and save the mean of the array (this is \"data_mean\" that is returned by the function)\n",
        "# 3. Calculate the mean from each bootstrap (i.e., row) and store it.\n",
        "# (This should be an array of n_bootstraps values)\n",
        "# 4. Calculate the lower and upper bounds for a 95% CI (hint: check the percentile function on Numpy)\n",
        "# 5. Return data_mean, and the lower and upper bounds of your interval\n",
        "def bootstrap_mean(x, sample_size, n_bootstraps):\n",
        "\tbootS_array = np.random.choice(x,(n_bootstraps, sample_size))\n",
        "\tdata_mean = np.mean(bootS_array)\n",
        "\tbootStraps_mean = np.mean(bootS_array, axis=1)\n",
        "\tlower = np.percentile(bootStraps_mean, 2.5)\n",
        "\tupper = np.percentile(bootStraps_mean, 97.5)\n",
        "\treturn data_mean, lower, upper\n"
      ]
    },
    {
      "cell_type": "code",
      "execution_count": 4,
      "metadata": {
        "id": "AN7sEOcMYC4P",
        "pycharm": {
          "name": "#%%\n"
        }
      },
      "outputs": [
        {
          "name": "stderr",
          "output_type": "stream",
          "text": [
            "/Users/Enterprise/opt/anaconda3/envs/pandasenv/lib/python3.9/site-packages/seaborn/_decorators.py:36: FutureWarning: Pass the following variables as keyword args: x, y. From version 0.12, the only valid positional argument will be `data`, and passing other arguments without an explicit keyword will result in an error or misinterpretation.\n",
            "  warnings.warn(\n"
          ]
        },
        {
          "data": {
            "text/plain": [
              "(0.0, 50000.0)"
            ]
          },
          "execution_count": 4,
          "metadata": {},
          "output_type": "execute_result"
        },
        {
          "data": {
            "image/png": "[encoded data removed]",
            "text/plain": [
              "<Figure size 425.125x360 with 1 Axes>"
            ]
          },
          "metadata": {
            "needs_background": "light"
          },
          "output_type": "display_data"
        }
      ],
      "source": [
        "# Call your bootstrap function and plot the results\n",
        "\n",
        "boots = []\n",
        "for i in range(100, 50000, 1000):\n",
        "    boot = bootstrap_mean(data, data.shape[0], i)\n",
        "    boots.append([i, boot[0], \"mean\"])\n",
        "    boots.append([i, boot[1], \"lower\"])\n",
        "    boots.append([i, boot[2], \"upper\"])\n",
        "\n",
        "df_boot = pd.DataFrame(boots, columns=['Bootstrap Iterations', 'Mean', \"Value\"])\n",
        "sns_plot = sns.lmplot(df_boot.columns[0], df_boot.columns[1], data=df_boot, fit_reg=False, hue=\"Value\")\n",
        "\n",
        "sns_plot.axes[0, 0].set_ylim(0,)\n",
        "sns_plot.axes[0, 0].set_xlim(0, 50000)\n"
      ]
    },
    {
      "cell_type": "markdown",
      "metadata": {
        "id": "MjtP4e2_YC4V"
      },
      "source": [
        "\n",
        "Now, modify the bootstrap function you created above so that you can pass your desired confidence interval as a parameter.\n",
        "\n"
      ]
    },
    {
      "cell_type": "code",
      "execution_count": 5,
      "metadata": {
        "id": "3K9j0FuGYhHs"
      },
      "outputs": [],
      "source": [
        "def bootstrap_mean_ci(sample, sample_size, n_bootstraps, ci):\n",
        "\tbootS_array = np.random.choice(sample,(n_bootstraps, sample_size))\n",
        "\tdata_mean = np.mean(bootS_array)\n",
        "\tbootStraps_mean = np.mean(bootS_array, axis=1)\n",
        "\tlower = np.percentile(bootStraps_mean, (100-ci)/2)\n",
        "\tupper = np.percentile(bootStraps_mean, (ci+(100-ci)/2))\n",
        "\treturn data_mean, lower, upper"
      ]
    },
    {
      "cell_type": "code",
      "execution_count": 6,
      "metadata": {
        "id": "uDnjq08GYl-C"
      },
      "outputs": [
        {
          "name": "stderr",
          "output_type": "stream",
          "text": [
            "/Users/Enterprise/opt/anaconda3/envs/pandasenv/lib/python3.9/site-packages/seaborn/_decorators.py:36: FutureWarning: Pass the following variables as keyword args: x, y. From version 0.12, the only valid positional argument will be `data`, and passing other arguments without an explicit keyword will result in an error or misinterpretation.\n",
            "  warnings.warn(\n"
          ]
        },
        {
          "data": {
            "text/plain": [
              "(0.0, 50000.0)"
            ]
          },
          "execution_count": 6,
          "metadata": {},
          "output_type": "execute_result"
        },
        {
          "data": {
            "image/png": "[encoded data removed]",
            "text/plain": [
              "<Figure size 425.125x360 with 1 Axes>"
            ]
          },
          "metadata": {
            "needs_background": "light"
          },
          "output_type": "display_data"
        }
      ],
      "source": [
        "boots = []\n",
        "for i in range(100, 50000, 1000):\n",
        "    boot = bootstrap_mean_ci(data, data.shape[0], i, 80)\n",
        "    boots.append([i, boot[0], \"mean\"])\n",
        "    boots.append([i, boot[1], \"lower\"])\n",
        "    boots.append([i, boot[2], \"upper\"])\n",
        "\n",
        "df_boot = pd.DataFrame(boots, columns=['Boostrap Iterations', 'Mean', \"Value\"])\n",
        "sns_plot = sns.lmplot(df_boot.columns[0], df_boot.columns[1], data=df_boot, fit_reg=False, hue=\"Value\")\n",
        "\n",
        "sns_plot.axes[0, 0].set_ylim(0,)\n",
        "sns_plot.axes[0, 0].set_xlim(0, 50000)\n",
        "\n",
        "#sns_plot.savefig(\"bootstrap_confidence_80.pdf\", bbox_inches='tight')\n"
      ]
    },
    {
      "cell_type": "code",
      "execution_count": 7,
      "metadata": {},
      "outputs": [],
      "source": [
        "# Confidence interval \n",
        "def bootstrap_std_ci(sample, sample_size, n_bootstraps, ci):\n",
        "\tbootS_array = np.random.choice(sample,(n_bootstraps, sample_size))\n",
        "\tdata_mean = np.std(bootS_array)\n",
        "\tbootStraps_mean = np.std(bootS_array, axis=1)\n",
        "\tlower = np.percentile(bootStraps_mean, (100-ci)/2)\n",
        "\tupper = np.percentile(bootStraps_mean, (ci+(100-ci)/2))\n",
        "\treturn data_mean, lower, upper"
      ]
    },
    {
      "cell_type": "code",
      "execution_count": 8,
      "metadata": {},
      "outputs": [
        {
          "name": "stdout",
          "output_type": "stream",
          "text": [
            "(5.695484656519851, 3.0338229402279002, 7.121485875303479)\n"
          ]
        }
      ],
      "source": [
        "print(bootstrap_std_ci(data, data.shape[0], 10000, 90))"
      ]
    },
    {
      "cell_type": "markdown",
      "metadata": {
        "id": "qjNgXW6wdd7r"
      },
      "source": [
        "# Vehicles dataset\n",
        "\n",
        "Now let's work on a different dataset, which is stored in the vehicles.csv file.\n"
      ]
    },
    {
      "cell_type": "code",
      "execution_count": 9,
      "metadata": {
        "id": "avWv4ipFdpka"
      },
      "outputs": [],
      "source": [
        "# Load and visualise the vehicles dataset\n",
        "df = pd.read_csv('vehicles.csv')\n",
        "df.head()\n",
        "dfCurr = df.iloc[:,0]\n",
        "dfNew = df.iloc[:,1]\n",
        "dfNew = dfNew.dropna()\n",
        "dataCurr = dfCurr.values\n",
        "dataNew = dfNew.values\n",
        "\n",
        "# Note that the current and new fleets are in different columns and have different lengths, so bear this in mind when you're plotting.\n",
        "# You can create separate scatterplots for the two fleets, as you would with the histograms, \n",
        "# or plot them both in one plot (but not one against the other).\n",
        "# sns.scatterplot(data=df, x=\"Current fleet\")\n",
        "# Note: you can add more cells as needed to organise your code and your plots\n"
      ]
    },
    {
      "cell_type": "code",
      "execution_count": 10,
      "metadata": {
        "id": "B5d0tXDpIEj8"
      },
      "outputs": [],
      "source": [
        "## Compare the two fleets\n",
        "\n",
        "# The business analysts come up a comparison algorithm that requires the upper and lower bounds for the mean in order to say which fleet is better.\n",
        "# 1. Calculate the mean of both samples.\n",
        "# 2. Using the bootstrap function that you created:\n",
        "#     - Construct the 95% CI of the mean of the current fleet.\n",
        "#     - Construct the 95% CI of the mean of the new fleet.\n",
        "#     - Are they comparable? (i.e., is one better than the other?) -- p-test"
      ]
    },
    {
      "cell_type": "code",
      "execution_count": 12,
      "metadata": {
        "id": "po4mp6zRHC0m"
      },
      "outputs": [
        {
          "name": "stdout",
          "output_type": "stream",
          "text": [
            "20.14457831325301 30.481012658227847\n",
            "Current fleet: (20.14870562248996, 19.36144578313253, 20.947791164658636)\n",
            "New fleet: (30.484800803212853, 29.730923694779115, 31.228915662650603)\n"
          ]
        }
      ],
      "source": [
        "current_mean, new_mean = np.mean(df, axis=0)\n",
        "print(current_mean, new_mean)\n",
        "print(\"Current fleet: \" + str(bootstrap_mean_ci(dataCurr, dataCurr.shape[0], 10000, 95)))\n",
        "print(\"New fleet: \" + str(bootstrap_mean_ci(dataNew, dataCurr.shape[0], 10000, 95)))\n"
      ]
    },
    {
      "cell_type": "code",
      "execution_count": 13,
      "metadata": {
        "id": "MkxvDZG4HC0n"
      },
      "outputs": [],
      "source": [
        "# Create your own function for a permutation test here (you will need it for the lab quiz!):\n",
        "def permut_test(sample1, sample2, n_permutations):\n",
        "    tObs = np.mean(sample2) - np.mean(sample1)\n",
        "    pValue = 0\n",
        "    concat = np.concatenate((sample1,sample2))\n",
        "    for i in range(n_permutations):\n",
        "        perm = np.random.permutation(concat)\n",
        "        nSample1 = perm[:len(sample1)]\n",
        "        nSample2 = perm[len(sample2):]\n",
        "\n",
        "        if (np.mean(nSample2)-np.mean(nSample1)) > tObs:\n",
        "            pValue += 1\n",
        "    return pValue/n_permutations"
      ]
    },
    {
      "cell_type": "code",
      "execution_count": 14,
      "metadata": {},
      "outputs": [
        {
          "name": "stdout",
          "output_type": "stream",
          "text": [
            "p-value for vehicle data set at 30000 iterations is: 0.0\n"
          ]
        }
      ],
      "source": [
        "print(\"p-value for vehicle data set at 30000 iterations is: \" + str(permut_test(dataCurr, dataNew, 30000)))"
      ]
    },
    {
      "cell_type": "code",
      "execution_count": 15,
      "metadata": {},
      "outputs": [],
      "source": [
        "# If an alpha of 0.5 is assumed, a p-value of 0.0 indicates that we can refute the H0 hypothesis."
      ]
    },
    {
      "cell_type": "code",
      "execution_count": 16,
      "metadata": {},
      "outputs": [
        {
          "name": "stdout",
          "output_type": "stream",
          "text": [
            "(30.482702531645568, 29.11392405063291, 31.82278481012658)\n"
          ]
        }
      ],
      "source": [
        "# The 95% confidence interval for the mean of the new fleet in the vehicles dataset using 10000 iteration\n",
        "print(bootstrap_mean_ci(dataNew, dataNew.shape[0], 10000, 95))"
      ]
    },
    {
      "cell_type": "code",
      "execution_count": 17,
      "metadata": {},
      "outputs": [
        {
          "name": "stdout",
          "output_type": "stream",
          "text": [
            "(20.14384417670683, 19.622489959839356, 20.662650602409638)\n"
          ]
        }
      ],
      "source": [
        "# The 80% confidence interval for the mean of the old fleet in the vehicles dataset using 10000 iterations\n",
        "print(bootstrap_mean_ci(dataCurr, dataCurr.shape[0], 10000, 80))"
      ]
    },
    {
      "cell_type": "code",
      "execution_count": 18,
      "metadata": {},
      "outputs": [
        {
          "name": "stdout",
          "output_type": "stream",
          "text": [
            "(6.399288347168303, 6.06524910038339, 6.700267009617946)\n"
          ]
        }
      ],
      "source": [
        "# The 73% confidence interval for the standard deviation of the old fleet in the vehicles dataset using 10000 iterations\n",
        "print(bootstrap_std_ci(dataCurr, dataCurr.shape[0], 10000, 73))"
      ]
    }
  ],
  "metadata": {
    "colab": {
      "include_colab_link": true,
      "name": "bootstrap.ipynb",
      "provenance": []
    },
    "interpreter": {
      "hash": "ca585555a2867b459a38eaf8b2b47956aef7a6f770e52f1f5dfa1f8f05e57688"
    },
    "kernelspec": {
      "display_name": "Python 3.9.6 64-bit",
      "name": "python3"
    },
    "language_info": {
      "codemirror_mode": {
        "name": "ipython",
        "version": 3
      },
      "file_extension": ".py",
      "mimetype": "text/x-python",
      "name": "python",
      "nbconvert_exporter": "python",
      "pygments_lexer": "ipython3",
      "version": "3.9.1"
    },
    "pycharm": {
      "stem_cell": {
        "cell_type": "raw",
        "metadata": {
          "collapsed": false
        },
        "source": []
      }
    }
  },
  "nbformat": 4,
  "nbformat_minor": 0
}
