{
 "cells": [
  {
   "cell_type": "markdown",
   "metadata": {},
   "source": [
    "# CE888 Assignment 1 (21a2): Inexperienced Queries"
   ]
  },
  {
   "cell_type": "markdown",
   "metadata": {},
   "source": [
    "##  Import packages"
   ]
  },
  {
   "cell_type": "code",
   "execution_count": 269,
   "metadata": {},
   "outputs": [],
   "source": [
    "%matplotlib inline\n",
    "import itertools \n",
    "import matplotlib\n",
    "import numpy as np\n",
    "import matplotlib.pyplot as plt\n",
    "import pandas as pd\n",
    "import seaborn as sns\n",
    "import os\n",
    "\n",
    "from sklearn.preprocessing import LabelEncoder, StandardScaler, OneHotEncoder, OrdinalEncoder\n",
    "from sklearn.compose import ColumnTransformer\n",
    "from sklearn.base import BaseEstimator, TransformerMixin\n",
    "from sklearn.pipeline import Pipeline\n",
    "\n",
    "from sklearn.model_selection import train_test_split, StratifiedShuffleSplit, cross_val_score\n",
    "\n",
    "from sklearn.metrics import mean_squared_error as mse\n",
    "from sklearn.metrics import mean_absolute_error as mae\n",
    "from sklearn.metrics import accuracy_score as acc\n",
    "from sklearn.metrics import make_scorer, confusion_matrix, SCORERS, f1_score\n",
    "from sklearn.dummy import DummyRegressor, DummyClassifier"
   ]
  },
  {
   "cell_type": "markdown",
   "metadata": {},
   "source": [
    "## Load data"
   ]
  },
  {
   "cell_type": "code",
   "execution_count": 270,
   "metadata": {},
   "outputs": [
    {
     "name": "stdout",
     "output_type": "stream",
     "text": [
      "<class 'pandas.core.frame.DataFrame'>\n",
      "RangeIndex: 7000 entries, 0 to 6999\n",
      "Data columns (total 7 columns):\n",
      " #   Column               Non-Null Count  Dtype \n",
      "---  ------               --------------  ----- \n",
      " 0   db_id                7000 non-null   object\n",
      " 1   query                7000 non-null   object\n",
      " 2   query_toks           7000 non-null   object\n",
      " 3   query_toks_no_value  7000 non-null   object\n",
      " 4   question             7000 non-null   object\n",
      " 5   question_toks        7000 non-null   object\n",
      " 6   sql                  7000 non-null   object\n",
      "dtypes: object(7)\n",
      "memory usage: 382.9+ KB\n"
     ]
    }
   ],
   "source": [
    "df = pd.read_json(open(\"/Users/Enterprise/Desktop/OneDrive/Essex/Modules/DataScience/DataScience_CE888_2022/Project/spider/train_spider.json\", \"r\", encoding=\"utf8\"))\n",
    "\n",
    "df.info()"
   ]
  },
  {
   "cell_type": "code",
   "execution_count": 271,
   "metadata": {},
   "outputs": [
    {
     "data": {
      "text/html": [
       "<div>\n",
       "<style scoped>\n",
       "    .dataframe tbody tr th:only-of-type {\n",
       "        vertical-align: middle;\n",
       "    }\n",
       "\n",
       "    .dataframe tbody tr th {\n",
       "        vertical-align: top;\n",
       "    }\n",
       "\n",
       "    .dataframe thead th {\n",
       "        text-align: right;\n",
       "    }\n",
       "</style>\n",
       "<table border=\"1\" class=\"dataframe\">\n",
       "  <thead>\n",
       "    <tr style=\"text-align: right;\">\n",
       "      <th></th>\n",
       "      <th>db_id</th>\n",
       "      <th>query</th>\n",
       "      <th>query_toks</th>\n",
       "      <th>query_toks_no_value</th>\n",
       "      <th>question</th>\n",
       "      <th>question_toks</th>\n",
       "      <th>sql</th>\n",
       "    </tr>\n",
       "  </thead>\n",
       "  <tbody>\n",
       "    <tr>\n",
       "      <th>0</th>\n",
       "      <td>department_management</td>\n",
       "      <td>SELECT count(*) FROM head WHERE age  &gt;  56</td>\n",
       "      <td>[SELECT, count, (, *, ), FROM, head, WHERE, ag...</td>\n",
       "      <td>[select, count, (, *, ), from, head, where, ag...</td>\n",
       "      <td>How many heads of the departments are older th...</td>\n",
       "      <td>[How, many, heads, of, the, departments, are, ...</td>\n",
       "      <td>{'from': {'table_units': [['table_unit', 1]], ...</td>\n",
       "    </tr>\n",
       "    <tr>\n",
       "      <th>1</th>\n",
       "      <td>department_management</td>\n",
       "      <td>SELECT name ,  born_state ,  age FROM head ORD...</td>\n",
       "      <td>[SELECT, name, ,, born_state, ,, age, FROM, he...</td>\n",
       "      <td>[select, name, ,, born_state, ,, age, from, he...</td>\n",
       "      <td>List the name, born state and age of the heads...</td>\n",
       "      <td>[List, the, name, ,, born, state, and, age, of...</td>\n",
       "      <td>{'from': {'table_units': [['table_unit', 1]], ...</td>\n",
       "    </tr>\n",
       "    <tr>\n",
       "      <th>2</th>\n",
       "      <td>department_management</td>\n",
       "      <td>SELECT creation ,  name ,  budget_in_billions ...</td>\n",
       "      <td>[SELECT, creation, ,, name, ,, budget_in_billi...</td>\n",
       "      <td>[select, creation, ,, name, ,, budget_in_billi...</td>\n",
       "      <td>List the creation year, name and budget of eac...</td>\n",
       "      <td>[List, the, creation, year, ,, name, and, budg...</td>\n",
       "      <td>{'from': {'table_units': [['table_unit', 0]], ...</td>\n",
       "    </tr>\n",
       "    <tr>\n",
       "      <th>3</th>\n",
       "      <td>department_management</td>\n",
       "      <td>SELECT max(budget_in_billions) ,  min(budget_i...</td>\n",
       "      <td>[SELECT, max, (, budget_in_billions, ), ,, min...</td>\n",
       "      <td>[select, max, (, budget_in_billions, ), ,, min...</td>\n",
       "      <td>What are the maximum and minimum budget of the...</td>\n",
       "      <td>[What, are, the, maximum, and, minimum, budget...</td>\n",
       "      <td>{'from': {'table_units': [['table_unit', 0]], ...</td>\n",
       "    </tr>\n",
       "    <tr>\n",
       "      <th>4</th>\n",
       "      <td>department_management</td>\n",
       "      <td>SELECT avg(num_employees) FROM department WHER...</td>\n",
       "      <td>[SELECT, avg, (, num_employees, ), FROM, depar...</td>\n",
       "      <td>[select, avg, (, num_employees, ), from, depar...</td>\n",
       "      <td>What is the average number of employees of the...</td>\n",
       "      <td>[What, is, the, average, number, of, employees...</td>\n",
       "      <td>{'from': {'table_units': [['table_unit', 0]], ...</td>\n",
       "    </tr>\n",
       "  </tbody>\n",
       "</table>\n",
       "</div>"
      ],
      "text/plain": [
       "                   db_id                                              query  \\\n",
       "0  department_management         SELECT count(*) FROM head WHERE age  >  56   \n",
       "1  department_management  SELECT name ,  born_state ,  age FROM head ORD...   \n",
       "2  department_management  SELECT creation ,  name ,  budget_in_billions ...   \n",
       "3  department_management  SELECT max(budget_in_billions) ,  min(budget_i...   \n",
       "4  department_management  SELECT avg(num_employees) FROM department WHER...   \n",
       "\n",
       "                                          query_toks  \\\n",
       "0  [SELECT, count, (, *, ), FROM, head, WHERE, ag...   \n",
       "1  [SELECT, name, ,, born_state, ,, age, FROM, he...   \n",
       "2  [SELECT, creation, ,, name, ,, budget_in_billi...   \n",
       "3  [SELECT, max, (, budget_in_billions, ), ,, min...   \n",
       "4  [SELECT, avg, (, num_employees, ), FROM, depar...   \n",
       "\n",
       "                                 query_toks_no_value  \\\n",
       "0  [select, count, (, *, ), from, head, where, ag...   \n",
       "1  [select, name, ,, born_state, ,, age, from, he...   \n",
       "2  [select, creation, ,, name, ,, budget_in_billi...   \n",
       "3  [select, max, (, budget_in_billions, ), ,, min...   \n",
       "4  [select, avg, (, num_employees, ), from, depar...   \n",
       "\n",
       "                                            question  \\\n",
       "0  How many heads of the departments are older th...   \n",
       "1  List the name, born state and age of the heads...   \n",
       "2  List the creation year, name and budget of eac...   \n",
       "3  What are the maximum and minimum budget of the...   \n",
       "4  What is the average number of employees of the...   \n",
       "\n",
       "                                       question_toks  \\\n",
       "0  [How, many, heads, of, the, departments, are, ...   \n",
       "1  [List, the, name, ,, born, state, and, age, of...   \n",
       "2  [List, the, creation, year, ,, name, and, budg...   \n",
       "3  [What, are, the, maximum, and, minimum, budget...   \n",
       "4  [What, is, the, average, number, of, employees...   \n",
       "\n",
       "                                                 sql  \n",
       "0  {'from': {'table_units': [['table_unit', 1]], ...  \n",
       "1  {'from': {'table_units': [['table_unit', 1]], ...  \n",
       "2  {'from': {'table_units': [['table_unit', 0]], ...  \n",
       "3  {'from': {'table_units': [['table_unit', 0]], ...  \n",
       "4  {'from': {'table_units': [['table_unit', 0]], ...  "
      ]
     },
     "execution_count": 271,
     "metadata": {},
     "output_type": "execute_result"
    }
   ],
   "source": [
    "df.head()"
   ]
  },
  {
   "cell_type": "markdown",
   "metadata": {},
   "source": [
    "## Instances selection\n",
    "\n",
    "1000 questions that query a numerical value (average, min, max, count, sum)  are going to be selected. This list of selected instances will have the presence of questions with different levels of difficulty. This level of difficulty will be determined based on the presence of SQL keywords are found in the target SQL query; in other words, how many `JOIN`, `GROUP BY`, `ORDER BY`, `INTERSECT`, etc... are found in each query.\n"
   ]
  },
  {
   "cell_type": "code",
   "execution_count": 272,
   "metadata": {},
   "outputs": [
    {
     "name": "stdout",
     "output_type": "stream",
     "text": [
      "avg: 464\n",
      "min: 165\n",
      "max: 233\n",
      "sum: 243\n",
      "923\n"
     ]
    }
   ],
   "source": [
    "total_avg = 0\n",
    "total_min = 0\n",
    "total_max = 0\n",
    "total_count = 0\n",
    "total_sum = 0\n",
    "list_filtered = []\n",
    "add_flag = False\n",
    "\n",
    "for index, tokens in enumerate(df[\"query_toks\"].values.tolist()):\n",
    "    if (\"avg\" in tokens):\n",
    "        add_flag = True\n",
    "        total_avg += 1\n",
    "    if (\"min\" in tokens):\n",
    "        add_flag = True\n",
    "        total_min += 1\n",
    "    if (\"max\" in tokens):\n",
    "        add_flag = True\n",
    "        total_max += 1\n",
    "    if (\"count\" in tokens):\n",
    "        total_count += 1\n",
    "    if (\"sum\" in tokens):\n",
    "        add_flag = True\n",
    "        total_sum += 1\n",
    "    if add_flag:\n",
    "        list_filtered.append(df.iloc[index])\n",
    "    add_flag = False\n",
    "\n",
    "print(\"avg: %d\" % total_avg)\n",
    "print(\"min: %d\" % total_min)\n",
    "print(\"max: %d\" % total_max)\n",
    "print(\"sum: %d\" % total_sum)\n",
    "\n",
    "print(len(list_filtered))\n",
    "df_filtered = pd.DataFrame(list_filtered)\n"
   ]
  },
  {
   "cell_type": "markdown",
   "metadata": {},
   "source": [
    "It was decided that given the recommendation of choosing approximately 1000 instances, count-related queries have been excluded of the filtered dataframe because it increased by a very large margin the size of the dataframe."
   ]
  },
  {
   "cell_type": "code",
   "execution_count": 273,
   "metadata": {},
   "outputs": [
    {
     "data": {
      "text/html": [
       "<div>\n",
       "<style scoped>\n",
       "    .dataframe tbody tr th:only-of-type {\n",
       "        vertical-align: middle;\n",
       "    }\n",
       "\n",
       "    .dataframe tbody tr th {\n",
       "        vertical-align: top;\n",
       "    }\n",
       "\n",
       "    .dataframe thead th {\n",
       "        text-align: right;\n",
       "    }\n",
       "</style>\n",
       "<table border=\"1\" class=\"dataframe\">\n",
       "  <thead>\n",
       "    <tr style=\"text-align: right;\">\n",
       "      <th></th>\n",
       "      <th>db_id</th>\n",
       "      <th>query</th>\n",
       "      <th>query_toks</th>\n",
       "      <th>query_toks_no_value</th>\n",
       "      <th>question</th>\n",
       "      <th>question_toks</th>\n",
       "      <th>sql</th>\n",
       "    </tr>\n",
       "  </thead>\n",
       "  <tbody>\n",
       "    <tr>\n",
       "      <th>3</th>\n",
       "      <td>department_management</td>\n",
       "      <td>SELECT max(budget_in_billions) ,  min(budget_i...</td>\n",
       "      <td>[SELECT, max, (, budget_in_billions, ), ,, min...</td>\n",
       "      <td>[select, max, (, budget_in_billions, ), ,, min...</td>\n",
       "      <td>What are the maximum and minimum budget of the...</td>\n",
       "      <td>[What, are, the, maximum, and, minimum, budget...</td>\n",
       "      <td>{'from': {'table_units': [['table_unit', 0]], ...</td>\n",
       "    </tr>\n",
       "    <tr>\n",
       "      <th>4</th>\n",
       "      <td>department_management</td>\n",
       "      <td>SELECT avg(num_employees) FROM department WHER...</td>\n",
       "      <td>[SELECT, avg, (, num_employees, ), FROM, depar...</td>\n",
       "      <td>[select, avg, (, num_employees, ), from, depar...</td>\n",
       "      <td>What is the average number of employees of the...</td>\n",
       "      <td>[What, is, the, average, number, of, employees...</td>\n",
       "      <td>{'from': {'table_units': [['table_unit', 0]], ...</td>\n",
       "    </tr>\n",
       "    <tr>\n",
       "      <th>24</th>\n",
       "      <td>farm</td>\n",
       "      <td>SELECT avg(Working_Horses) FROM farm WHERE Tot...</td>\n",
       "      <td>[SELECT, avg, (, Working_Horses, ), FROM, farm...</td>\n",
       "      <td>[select, avg, (, working_horses, ), from, farm...</td>\n",
       "      <td>What is the average number of working horses o...</td>\n",
       "      <td>[What, is, the, average, number, of, working, ...</td>\n",
       "      <td>{'from': {'table_units': [['table_unit', 1]], ...</td>\n",
       "    </tr>\n",
       "    <tr>\n",
       "      <th>25</th>\n",
       "      <td>farm</td>\n",
       "      <td>SELECT avg(Working_Horses) FROM farm WHERE Tot...</td>\n",
       "      <td>[SELECT, avg, (, Working_Horses, ), FROM, farm...</td>\n",
       "      <td>[select, avg, (, working_horses, ), from, farm...</td>\n",
       "      <td>Give the average number of working horses on f...</td>\n",
       "      <td>[Give, the, average, number, of, working, hors...</td>\n",
       "      <td>{'from': {'table_units': [['table_unit', 1]], ...</td>\n",
       "    </tr>\n",
       "    <tr>\n",
       "      <th>26</th>\n",
       "      <td>farm</td>\n",
       "      <td>SELECT max(Cows) ,  min(Cows) FROM farm</td>\n",
       "      <td>[SELECT, max, (, Cows, ), ,, min, (, Cows, ), ...</td>\n",
       "      <td>[select, max, (, cows, ), ,, min, (, cows, ), ...</td>\n",
       "      <td>What are the maximum and minimum number of cow...</td>\n",
       "      <td>[What, are, the, maximum, and, minimum, number...</td>\n",
       "      <td>{'from': {'table_units': [['table_unit', 1]], ...</td>\n",
       "    </tr>\n",
       "  </tbody>\n",
       "</table>\n",
       "</div>"
      ],
      "text/plain": [
       "                    db_id                                              query  \\\n",
       "3   department_management  SELECT max(budget_in_billions) ,  min(budget_i...   \n",
       "4   department_management  SELECT avg(num_employees) FROM department WHER...   \n",
       "24                   farm  SELECT avg(Working_Horses) FROM farm WHERE Tot...   \n",
       "25                   farm  SELECT avg(Working_Horses) FROM farm WHERE Tot...   \n",
       "26                   farm            SELECT max(Cows) ,  min(Cows) FROM farm   \n",
       "\n",
       "                                           query_toks  \\\n",
       "3   [SELECT, max, (, budget_in_billions, ), ,, min...   \n",
       "4   [SELECT, avg, (, num_employees, ), FROM, depar...   \n",
       "24  [SELECT, avg, (, Working_Horses, ), FROM, farm...   \n",
       "25  [SELECT, avg, (, Working_Horses, ), FROM, farm...   \n",
       "26  [SELECT, max, (, Cows, ), ,, min, (, Cows, ), ...   \n",
       "\n",
       "                                  query_toks_no_value  \\\n",
       "3   [select, max, (, budget_in_billions, ), ,, min...   \n",
       "4   [select, avg, (, num_employees, ), from, depar...   \n",
       "24  [select, avg, (, working_horses, ), from, farm...   \n",
       "25  [select, avg, (, working_horses, ), from, farm...   \n",
       "26  [select, max, (, cows, ), ,, min, (, cows, ), ...   \n",
       "\n",
       "                                             question  \\\n",
       "3   What are the maximum and minimum budget of the...   \n",
       "4   What is the average number of employees of the...   \n",
       "24  What is the average number of working horses o...   \n",
       "25  Give the average number of working horses on f...   \n",
       "26  What are the maximum and minimum number of cow...   \n",
       "\n",
       "                                        question_toks  \\\n",
       "3   [What, are, the, maximum, and, minimum, budget...   \n",
       "4   [What, is, the, average, number, of, employees...   \n",
       "24  [What, is, the, average, number, of, working, ...   \n",
       "25  [Give, the, average, number, of, working, hors...   \n",
       "26  [What, are, the, maximum, and, minimum, number...   \n",
       "\n",
       "                                                  sql  \n",
       "3   {'from': {'table_units': [['table_unit', 0]], ...  \n",
       "4   {'from': {'table_units': [['table_unit', 0]], ...  \n",
       "24  {'from': {'table_units': [['table_unit', 1]], ...  \n",
       "25  {'from': {'table_units': [['table_unit', 1]], ...  \n",
       "26  {'from': {'table_units': [['table_unit', 1]], ...  "
      ]
     },
     "execution_count": 273,
     "metadata": {},
     "output_type": "execute_result"
    }
   ],
   "source": [
    "df_filtered.head()"
   ]
  },
  {
   "cell_type": "markdown",
   "metadata": {},
   "source": [
    "## Resulting datasets statistics"
   ]
  },
  {
   "cell_type": "code",
   "execution_count": 274,
   "metadata": {},
   "outputs": [
    {
     "name": "stdout",
     "output_type": "stream",
     "text": [
      "Number of databases involved: 115\n"
     ]
    }
   ],
   "source": [
    "print(\"Number of databases involved: \"+str(len(df_filtered[\"db_id\"].value_counts())))"
   ]
  },
  {
   "cell_type": "code",
   "execution_count": 275,
   "metadata": {},
   "outputs": [
    {
     "name": "stdout",
     "output_type": "stream",
     "text": [
      "Max length of questions: 55\n",
      "Min length of questions: 7\n"
     ]
    }
   ],
   "source": [
    "questions_lengths = df_filtered[\"query_toks\"].apply(len)\n",
    "print(\"Max length of questions: {}\".format(max_q_len := np.max(questions_lengths)))\n",
    "print(\"Min length of questions: {}\".format(min_q_len := np.min(questions_lengths)))"
   ]
  },
  {
   "cell_type": "markdown",
   "metadata": {},
   "source": [
    "A range from 7 to 55 tokens per query shows a sufficient variation in the difficulty of queries."
   ]
  },
  {
   "cell_type": "code",
   "execution_count": 276,
   "metadata": {},
   "outputs": [
    {
     "data": {
      "text/plain": [
       "<AxesSubplot:xlabel='query_toks', ylabel='Count'>"
      ]
     },
     "execution_count": 276,
     "metadata": {},
     "output_type": "execute_result"
    },
    {
     "data": {
      "image/png": "[encoded data removed]",
      "text/plain": [
       "<Figure size 432x288 with 1 Axes>"
      ]
     },
     "metadata": {
      "needs_background": "light"
     },
     "output_type": "display_data"
    }
   ],
   "source": [
    "sns.histplot(questions_lengths)"
   ]
  },
  {
   "cell_type": "markdown",
   "metadata": {},
   "source": [
    "There is a heavy skewness to the left side in the distribution of the sizes of the queries. This means that there are fare more queries with small/medium size. Given that the model is meant for inexperienced people to be able to query databases, it is fair to assume that complex/large queries are not going to be as common a short ones."
   ]
  },
  {
   "cell_type": "code",
   "execution_count": 277,
   "metadata": {},
   "outputs": [
    {
     "name": "stderr",
     "output_type": "stream",
     "text": [
      "/Users/Enterprise/opt/anaconda3/envs/pandasenv/lib/python3.9/site-packages/seaborn/_decorators.py:36: FutureWarning: Pass the following variable as a keyword arg: x. From version 0.12, the only valid positional argument will be `data`, and passing other arguments without an explicit keyword will result in an error or misinterpretation.\n",
      "  warnings.warn(\n"
     ]
    },
    {
     "data": {
      "text/plain": [
       "<AxesSubplot:xlabel='query_toks'>"
      ]
     },
     "execution_count": 277,
     "metadata": {},
     "output_type": "execute_result"
    },
    {
     "data": {
      "image/png": "[encoded data removed]",
      "text/plain": [
       "<Figure size 432x288 with 1 Axes>"
      ]
     },
     "metadata": {
      "needs_background": "light"
     },
     "output_type": "display_data"
    }
   ],
   "source": [
    "sns.boxplot(questions_lengths)"
   ]
  },
  {
   "cell_type": "markdown",
   "metadata": {},
   "source": [
    "## Partition of dataset"
   ]
  },
  {
   "cell_type": "markdown",
   "metadata": {},
   "source": [
    "We will split the filtered dataframe in separate training and testing datasets (80% training & 20% testing)."
   ]
  },
  {
   "cell_type": "code",
   "execution_count": 278,
   "metadata": {},
   "outputs": [
    {
     "name": "stdout",
     "output_type": "stream",
     "text": [
      "738 185\n",
      "738 185\n"
     ]
    }
   ],
   "source": [
    "X_df = df_filtered[\"question_toks\"].copy()\n",
    "y_df = df_filtered[\"query_toks\"].copy()\n",
    "\n",
    "# Create separate training and test sets. we'll use the training set for steps 3--6\n",
    "X_train, X_test, y_train, y_test = train_test_split(X_df, y_df, test_size=0.2, random_state=50)  \n",
    "# by setting a random_state above, we make sure anytime we run this line we end up with the same train and test sets\n",
    "print(len(X_train), len(X_test))\n",
    "print(len(y_train), len(y_test))"
   ]
  },
  {
   "cell_type": "markdown",
   "metadata": {},
   "source": [
    "## Dataset encoding of tokens"
   ]
  },
  {
   "cell_type": "markdown",
   "metadata": {},
   "source": [
    "Data will be encoded in two \"cubes\", one for the natural language questions and one for the tartget SQL queries. The dimensions of the cubes will represent the tokens present in each of the two components using a one-hot encoding approach. The dimensions of each cube will be arranged as follows: num_queries * max_num_tokens * num_tokens_in_dict.\n",
    "\n",
    "For example, in our filtered dataframe we have 923 examples"
   ]
  },
  {
   "cell_type": "markdown",
   "metadata": {},
   "source": [
    "### Training"
   ]
  },
  {
   "cell_type": "code",
   "execution_count": 279,
   "metadata": {},
   "outputs": [],
   "source": [
    "nl_questions = []\n",
    "nl_tokens = []\n",
    "sql_queries = []\n",
    "sql_tokens = []\n",
    "max_query_len = 0\n",
    "max_question_len = 0\n",
    "\n",
    "for index,_ in enumerate(X_train.values.tolist()):\n",
    "    nl_questions.append(X_train.iloc[index])\n",
    "    sql_queries.append(y_train.iloc[index])\n",
    "\n",
    "    # Determine max length of input and output training instances.\n",
    "    if len(X_train.iloc[index]) > max_question_len:\n",
    "        max_question_len = len(X_train.iloc[index])\n",
    "    if len(y_train.iloc[index]) > max_query_len:\n",
    "        max_query_len = len(y_train.iloc[index])\n",
    "\n",
    "    # Insert tokens into \"dictionary\" if not present yet.\n",
    "    for token_nl in X_train.iloc[index]:\n",
    "        if token_nl not in nl_tokens:\n",
    "            nl_tokens.append(token_nl)\n",
    "    for token_sql in y_train.iloc[index]:\n",
    "        if token_sql not in sql_tokens:\n",
    "            sql_tokens.append(token_sql)\n",
    "\n",
    "# Sort the dictionaries.\n",
    "sql_tokens = sorted(sql_tokens)\n",
    "nl_tokens = sorted(nl_tokens)"
   ]
  },
  {
   "cell_type": "code",
   "execution_count": 280,
   "metadata": {},
   "outputs": [
    {
     "name": "stdout",
     "output_type": "stream",
     "text": [
      "Number of input questions: 738\n",
      "Number of output sql queries: 738\n",
      "Number of question tokens: 1009\n",
      "Number of queries tokens: 1104\n",
      "Max length of questions: 36\n",
      "Max length of queries: 55\n"
     ]
    }
   ],
   "source": [
    "print(\"Number of input questions: %d\" % len(nl_questions))\n",
    "print(\"Number of output sql queries: %d\" % len(sql_queries))\n",
    "print(\"Number of question tokens: {}\".format(num_nl_tokens := len(nl_tokens)))\n",
    "print(\"Number of queries tokens: {}\".format(num_sql_tokens := len(sql_tokens)))\n",
    "print(\"Max length of questions: %d\" % max_question_len)\n",
    "print(\"Max length of queries: %d\" % max_query_len)"
   ]
  },
  {
   "cell_type": "code",
   "execution_count": 281,
   "metadata": {},
   "outputs": [],
   "source": [
    "# Create proper dictionaries of tokens to improve time complexity of populating dataset cubes.\n",
    "nl_tokens_index = dict()\n",
    "sql_tokens_index = dict()\n",
    "\n",
    "for index, token in enumerate(nl_tokens):\n",
    "    nl_tokens_index[token] = index\n",
    "\n",
    "for index, token in enumerate(sql_tokens):\n",
    "    sql_tokens_index[token] = index"
   ]
  },
  {
   "cell_type": "code",
   "execution_count": 282,
   "metadata": {},
   "outputs": [],
   "source": [
    "# Create cubes and populate them with the one-hot encoding.\n",
    "encoder_input_cube = np.zeros((len(nl_questions), max_question_len, num_nl_tokens), dtype=\"float32\")\n",
    "decoder_input_cube = np.zeros((len(nl_questions), max_query_len, num_sql_tokens), dtype=\"float32\")\n",
    "decoder_output_cube = np.zeros((len(nl_questions), max_query_len, num_sql_tokens), dtype=\"float32\")\n",
    "\n",
    "# Iterate through both lists of NL questions and SQL queries.\n",
    "for i, (question, query) in enumerate(zip(nl_questions, sql_queries)):\n",
    "    # Iterate through each token of the NL question and mark the corresponding space in the cube \n",
    "    #       with a 1.0 if it is present.\n",
    "    for j, token in enumerate(question):\n",
    "        encoder_input_cube[i, j, nl_tokens_index[token]] = 1.0\n",
    "    # Iterate through each token of the SQL question and follow the same procedure for both decoders\n",
    "    #       keeping in mind that the output decoder is goes 1-timestep ahead.\n",
    "    for j, token in enumerate(query):\n",
    "        decoder_input_cube[i, j, sql_tokens_index[token]] = 1.0\n",
    "        if j > 0:\n",
    "            decoder_output_cube[i, j - 1, sql_tokens_index[token]] = 1.0"
   ]
  },
  {
   "cell_type": "markdown",
   "metadata": {},
   "source": [
    "### Testing"
   ]
  },
  {
   "cell_type": "code",
   "execution_count": 283,
   "metadata": {},
   "outputs": [],
   "source": [
    "nl_questions_test = []\n",
    "nl_tokens_test = []\n",
    "sql_queries_test = []\n",
    "sql_tokens_test = []\n",
    "max_query_len_test = 0\n",
    "max_question_len_test = 0\n",
    "\n",
    "for index,_ in enumerate(X_test.values.tolist()):\n",
    "    nl_questions_test.append(X_test.iloc[index])\n",
    "    sql_queries_test.append(y_test.iloc[index])\n",
    "\n",
    "    # Determine max length of input and output testing instances.\n",
    "    if len(X_test.iloc[index]) > max_question_len_test:\n",
    "        max_question_len_test = len(X_test.iloc[index])\n",
    "    if len(y_test.iloc[index]) > max_query_len_test:\n",
    "        max_query_len_test = len(y_test.iloc[index])\n",
    "\n",
    "    # Insert tokens into \"dictionary\" if not present yet.\n",
    "    for token_nl in X_test.iloc[index]:\n",
    "        if token_nl not in nl_tokens_test:\n",
    "            nl_tokens_test.append(token_nl)\n",
    "    for token_sql in y_test.iloc[index]:\n",
    "        if token_sql not in sql_tokens_test:\n",
    "            sql_tokens_test.append(token_sql)\n",
    "\n",
    "# Sort the dictionaries.\n",
    "sql_tokens_test = sorted(sql_tokens_test)\n",
    "nl_tokens_test = sorted(nl_tokens_test)"
   ]
  },
  {
   "cell_type": "code",
   "execution_count": 284,
   "metadata": {},
   "outputs": [
    {
     "name": "stdout",
     "output_type": "stream",
     "text": [
      "Number of input questions testing: 185\n",
      "Number of output sql queries testing: 185\n",
      "Number of question tokens testing: 526\n",
      "Number of queries tokens testing: 610\n",
      "Max length of questions testing: 43\n",
      "Max length of queries testing : 53\n"
     ]
    }
   ],
   "source": [
    "print(\"Number of input questions testing: %d\" % len(nl_questions_test))\n",
    "print(\"Number of output sql queries testing: %d\" % len(sql_queries_test))\n",
    "print(\"Number of question tokens testing: {}\".format(num_nl_tokens_test := len(nl_tokens_test)))\n",
    "print(\"Number of queries tokens testing: {}\".format(num_sql_tokens_test := len(sql_tokens_test)))\n",
    "print(\"Max length of questions testing: %d\" % max_question_len_test)\n",
    "print(\"Max length of queries testing : %d\" % max_query_len_test)"
   ]
  },
  {
   "cell_type": "code",
   "execution_count": 285,
   "metadata": {},
   "outputs": [],
   "source": [
    "# Create proper dictionaries of tokens to improve time complexity of populating dataset cubes.\n",
    "nl_tokens_index_test = dict()\n",
    "sql_tokens_index_test = dict()\n",
    "\n",
    "for index, token in enumerate(nl_tokens_test):\n",
    "    nl_tokens_index_test[token] = index\n",
    "\n",
    "for index, token in enumerate(sql_tokens_test):\n",
    "    sql_tokens_index_test[token] = index"
   ]
  },
  {
   "cell_type": "code",
   "execution_count": 286,
   "metadata": {},
   "outputs": [],
   "source": [
    "# Create cubes and populate them with the one-hot encoding.\n",
    "encoder_input_cube_test = np.zeros((len(nl_questions_test), max_question_len_test, num_nl_tokens_test), dtype=\"float32\")\n",
    "decoder_input_cube_test = np.zeros((len(nl_questions_test), max_query_len_test, num_sql_tokens_test), dtype=\"float32\")\n",
    "decoder_output_cube_test = np.zeros((len(nl_questions_test), max_query_len_test, num_sql_tokens_test), dtype=\"float32\")\n",
    "\n",
    "# Iterate through both lists of NL questions and SQL queries.\n",
    "for i, (question, query) in enumerate(zip(nl_questions_test, sql_queries_test)):\n",
    "    # Iterate through each token of the NL question and mark the corresponding space in the cube \n",
    "    #       with a 1.0 if it is present.\n",
    "    for j, token in enumerate(question):\n",
    "        encoder_input_cube_test[i, j, nl_tokens_index_test[token]] = 1.0\n",
    "    # Iterate through each token of the SQL question and follow the same procedure for both decoders\n",
    "    #       keeping in mind that the output decoder is goes 1-timestep ahead.\n",
    "    for j, token in enumerate(query):\n",
    "        decoder_input_cube_test[i, j, sql_tokens_index_test[token]] = 1.0\n",
    "        if j > 0:\n",
    "            decoder_output_cube_test[i, j - 1, sql_tokens_index_test[token]] = 1.0"
   ]
  }
 ],
 "metadata": {
  "interpreter": {
   "hash": "ad2351d84cf4fd304e6b460f6e47aa147fc073fde37b2ce751d158297c8be418"
  },
  "kernelspec": {
   "display_name": "Python 3.9.1 ('pandasenv')",
   "language": "python",
   "name": "python3"
  },
  "language_info": {
   "codemirror_mode": {
    "name": "ipython",
    "version": 3
   },
   "file_extension": ".py",
   "mimetype": "text/x-python",
   "name": "python",
   "nbconvert_exporter": "python",
   "pygments_lexer": "ipython3",
   "version": "3.9.1"
  },
  "orig_nbformat": 4
 },
 "nbformat": 4,
 "nbformat_minor": 2
}
